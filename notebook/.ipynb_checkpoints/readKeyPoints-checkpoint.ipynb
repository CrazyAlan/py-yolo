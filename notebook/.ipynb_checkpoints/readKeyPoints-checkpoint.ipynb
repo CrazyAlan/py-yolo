{
 "cells": [
  {
   "cell_type": "code",
   "execution_count": 10,
   "metadata": {},
   "outputs": [],
   "source": [
    "import glob\n",
    "import numpy as np\n",
    "import json\n",
    "from pprint import pprint"
   ]
  },
  {
   "cell_type": "code",
   "execution_count": 11,
   "metadata": {},
   "outputs": [],
   "source": [
    "files = glob.glob(\"/home/xc/dataset/mpii/keypoint/*.json\")\n",
    "files = np.sort(files)"
   ]
  },
  {
   "cell_type": "code",
   "execution_count": 24,
   "metadata": {},
   "outputs": [],
   "source": [
    "# for i in range(len(files)):\n",
    "for i in range(10):\n",
    "    data = json.load(open(files[i]))\n",
    "    for pp in data['people']: # each peopel has its own pose\n",
    "        hl_box = keypoints_2_box(pp['hand_left_keypoints'])\n",
    "        hr_box = keypoints_2_box(pp['hand_right_keypoints'])"
   ]
  },
  {
   "cell_type": "code",
   "execution_count": null,
   "metadata": {},
   "outputs": [],
   "source": [
    "def keypoints_2_box(keys):\n",
    "    xs = filter(lambda x: x != 0, keys[0::2])\n",
    "    ys = filter(lambda x: x != 0, keys[1::2])\n",
    "    x_min, x_max = np.min(xs), np.max(xs)\n",
    "    y_min, y_max = np.min(ys), np.max(ys)"
   ]
  }
 ],
 "metadata": {
  "kernelspec": {
   "display_name": "Python 2",
   "language": "python",
   "name": "python2"
  },
  "language_info": {
   "codemirror_mode": {
    "name": "ipython",
    "version": 2
   },
   "file_extension": ".py",
   "mimetype": "text/x-python",
   "name": "python",
   "nbconvert_exporter": "python",
   "pygments_lexer": "ipython2",
   "version": "2.7.13"
  }
 },
 "nbformat": 4,
 "nbformat_minor": 2
}
